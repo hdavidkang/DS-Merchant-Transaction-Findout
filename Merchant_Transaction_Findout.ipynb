{
  "nbformat": 4,
  "nbformat_minor": 0,
  "metadata": {
    "colab": {
      "name": "Merchant_Transaction_Findout",
      "provenance": [],
      "collapsed_sections": [],
      "machine_shape": "hm",
      "mount_file_id": "1So8eH2zYzMt4V7Gbxs9ShJJmU71NBvx1",
      "authorship_tag": "ABX9TyOZlPFw3T7KBU9VKieqwC2V",
      "include_colab_link": true
    },
    "kernelspec": {
      "name": "python3",
      "display_name": "Python 3"
    },
    "language_info": {
      "name": "python"
    }
  },
  "cells": [
    {
      "cell_type": "markdown",
      "metadata": {
        "id": "view-in-github",
        "colab_type": "text"
      },
      "source": [
        "<a href=\"https://colab.research.google.com/github/hdavidkang/hdavidkang-DS-Merchant-Transaction-Findout/blob/main/Merchant_Transaction_Findout.ipynb\" target=\"_parent\"><img src=\"https://colab.research.google.com/assets/colab-badge.svg\" alt=\"Open In Colab\"/></a>"
      ]
    },
    {
      "cell_type": "markdown",
      "source": [
        "# FinTech Merchant Transaction - who is who?"
      ],
      "metadata": {
        "id": "sYALSnDLXmzZ"
      }
    },
    {
      "cell_type": "markdown",
      "source": [
        "## Data Import"
      ],
      "metadata": {
        "id": "HoMkHMauwtU7"
      }
    },
    {
      "cell_type": "code",
      "source": [
        "import pandas as pd\n",
        "import numpy as np\n",
        "from datetime import datetime, timedelta\n",
        "import matplotlib.pyplot as plt\n",
        "import seaborn as sns\n",
        "from scipy import stats\n",
        "from collections import OrderedDict\n",
        "from tqdm import tqdm\n",
        "\n",
        "from sklearn.model_selection import train_test_split\n",
        "from sklearn.ensemble import GradientBoostingClassifier\n",
        "from sklearn.metrics import confusion_matrix\n",
        "\n",
        "import tensorflow as tf\n",
        "from tensorflow import keras\n",
        "from tensorflow.keras import models\n",
        "from keras.models import Sequential\n",
        "from keras.layers import Dense, Activation, Dropout\n",
        "from keras import optimizers"
      ],
      "metadata": {
        "id": "6NE5eRP5Zqen"
      },
      "execution_count": null,
      "outputs": []
    },
    {
      "cell_type": "code",
      "execution_count": null,
      "metadata": {
        "colab": {
          "base_uri": "https://localhost:8080/",
          "height": 143
        },
        "id": "1BKWAeupO_Q9",
        "outputId": "db150309-c7dd-4218-860b-5c60c22f4da3"
      },
      "outputs": [
        {
          "output_type": "execute_result",
          "data": {
            "text/plain": [
              "           id                time    usd\n",
              "0  3e72388b82 2033-01-01 09:38:32  43.35\n",
              "1  32cd721943 2033-01-01 12:53:52  60.19\n",
              "2  a8ff2d667e 2033-01-01 15:08:55  39.42"
            ],
            "text/html": [
              "\n",
              "  <div id=\"df-8967260c-eefa-466c-8bb3-75564ebdf4c9\">\n",
              "    <div class=\"colab-df-container\">\n",
              "      <div>\n",
              "<style scoped>\n",
              "    .dataframe tbody tr th:only-of-type {\n",
              "        vertical-align: middle;\n",
              "    }\n",
              "\n",
              "    .dataframe tbody tr th {\n",
              "        vertical-align: top;\n",
              "    }\n",
              "\n",
              "    .dataframe thead th {\n",
              "        text-align: right;\n",
              "    }\n",
              "</style>\n",
              "<table border=\"1\" class=\"dataframe\">\n",
              "  <thead>\n",
              "    <tr style=\"text-align: right;\">\n",
              "      <th></th>\n",
              "      <th>id</th>\n",
              "      <th>time</th>\n",
              "      <th>usd</th>\n",
              "    </tr>\n",
              "  </thead>\n",
              "  <tbody>\n",
              "    <tr>\n",
              "      <th>0</th>\n",
              "      <td>3e72388b82</td>\n",
              "      <td>2033-01-01 09:38:32</td>\n",
              "      <td>43.35</td>\n",
              "    </tr>\n",
              "    <tr>\n",
              "      <th>1</th>\n",
              "      <td>32cd721943</td>\n",
              "      <td>2033-01-01 12:53:52</td>\n",
              "      <td>60.19</td>\n",
              "    </tr>\n",
              "    <tr>\n",
              "      <th>2</th>\n",
              "      <td>a8ff2d667e</td>\n",
              "      <td>2033-01-01 15:08:55</td>\n",
              "      <td>39.42</td>\n",
              "    </tr>\n",
              "  </tbody>\n",
              "</table>\n",
              "</div>\n",
              "      <button class=\"colab-df-convert\" onclick=\"convertToInteractive('df-8967260c-eefa-466c-8bb3-75564ebdf4c9')\"\n",
              "              title=\"Convert this dataframe to an interactive table.\"\n",
              "              style=\"display:none;\">\n",
              "        \n",
              "  <svg xmlns=\"http://www.w3.org/2000/svg\" height=\"24px\"viewBox=\"0 0 24 24\"\n",
              "       width=\"24px\">\n",
              "    <path d=\"M0 0h24v24H0V0z\" fill=\"none\"/>\n",
              "    <path d=\"M18.56 5.44l.94 2.06.94-2.06 2.06-.94-2.06-.94-.94-2.06-.94 2.06-2.06.94zm-11 1L8.5 8.5l.94-2.06 2.06-.94-2.06-.94L8.5 2.5l-.94 2.06-2.06.94zm10 10l.94 2.06.94-2.06 2.06-.94-2.06-.94-.94-2.06-.94 2.06-2.06.94z\"/><path d=\"M17.41 7.96l-1.37-1.37c-.4-.4-.92-.59-1.43-.59-.52 0-1.04.2-1.43.59L10.3 9.45l-7.72 7.72c-.78.78-.78 2.05 0 2.83L4 21.41c.39.39.9.59 1.41.59.51 0 1.02-.2 1.41-.59l7.78-7.78 2.81-2.81c.8-.78.8-2.07 0-2.86zM5.41 20L4 18.59l7.72-7.72 1.47 1.35L5.41 20z\"/>\n",
              "  </svg>\n",
              "      </button>\n",
              "      \n",
              "  <style>\n",
              "    .colab-df-container {\n",
              "      display:flex;\n",
              "      flex-wrap:wrap;\n",
              "      gap: 12px;\n",
              "    }\n",
              "\n",
              "    .colab-df-convert {\n",
              "      background-color: #E8F0FE;\n",
              "      border: none;\n",
              "      border-radius: 50%;\n",
              "      cursor: pointer;\n",
              "      display: none;\n",
              "      fill: #1967D2;\n",
              "      height: 32px;\n",
              "      padding: 0 0 0 0;\n",
              "      width: 32px;\n",
              "    }\n",
              "\n",
              "    .colab-df-convert:hover {\n",
              "      background-color: #E2EBFA;\n",
              "      box-shadow: 0px 1px 2px rgba(60, 64, 67, 0.3), 0px 1px 3px 1px rgba(60, 64, 67, 0.15);\n",
              "      fill: #174EA6;\n",
              "    }\n",
              "\n",
              "    [theme=dark] .colab-df-convert {\n",
              "      background-color: #3B4455;\n",
              "      fill: #D2E3FC;\n",
              "    }\n",
              "\n",
              "    [theme=dark] .colab-df-convert:hover {\n",
              "      background-color: #434B5C;\n",
              "      box-shadow: 0px 1px 3px 1px rgba(0, 0, 0, 0.15);\n",
              "      filter: drop-shadow(0px 1px 2px rgba(0, 0, 0, 0.3));\n",
              "      fill: #FFFFFF;\n",
              "    }\n",
              "  </style>\n",
              "\n",
              "      <script>\n",
              "        const buttonEl =\n",
              "          document.querySelector('#df-8967260c-eefa-466c-8bb3-75564ebdf4c9 button.colab-df-convert');\n",
              "        buttonEl.style.display =\n",
              "          google.colab.kernel.accessAllowed ? 'block' : 'none';\n",
              "\n",
              "        async function convertToInteractive(key) {\n",
              "          const element = document.querySelector('#df-8967260c-eefa-466c-8bb3-75564ebdf4c9');\n",
              "          const dataTable =\n",
              "            await google.colab.kernel.invokeFunction('convertToInteractive',\n",
              "                                                     [key], {});\n",
              "          if (!dataTable) return;\n",
              "\n",
              "          const docLinkHtml = 'Like what you see? Visit the ' +\n",
              "            '<a target=\"_blank\" href=https://colab.research.google.com/notebooks/data_table.ipynb>data table notebook</a>'\n",
              "            + ' to learn more about interactive tables.';\n",
              "          element.innerHTML = '';\n",
              "          dataTable['output_type'] = 'display_data';\n",
              "          await google.colab.output.renderOutput(dataTable, element);\n",
              "          const docLink = document.createElement('div');\n",
              "          docLink.innerHTML = docLinkHtml;\n",
              "          element.appendChild(docLink);\n",
              "        }\n",
              "      </script>\n",
              "    </div>\n",
              "  </div>\n",
              "  "
            ]
          },
          "metadata": {},
          "execution_count": 2
        }
      ],
      "source": [
        "data = pd.read_csv('/content/drive/MyDrive/takehome_ds_written.csv').iloc[:, 1:]\n",
        "data.columns = ['id', 'time', 'usd']\n",
        "data['time'] = data.time.apply(lambda x: datetime.strptime(x, \"%Y-%m-%d %H:%M:%S\"))\n",
        "data['usd'] = data.usd/100\n",
        "data = data.sort_values(by='time').reset_index(drop=True)\n",
        "data.head(3)"
      ]
    },
    {
      "cell_type": "code",
      "source": [
        "len(data), data.id.nunique() # 1.5M, 12K"
      ],
      "metadata": {
        "colab": {
          "base_uri": "https://localhost:8080/"
        },
        "id": "ZxV8qm2UZxUX",
        "outputId": "c3edf5d6-a247-46a0-b963-dac9f268a57c"
      },
      "execution_count": null,
      "outputs": [
        {
          "output_type": "execute_result",
          "data": {
            "text/plain": [
              "(1513719, 14351)"
            ]
          },
          "metadata": {},
          "execution_count": 3
        }
      ]
    },
    {
      "cell_type": "markdown",
      "source": [
        "## Part 1. Merchant Types"
      ],
      "metadata": {
        "id": "cVibtkN17hp3"
      }
    },
    {
      "cell_type": "markdown",
      "source": [
        "**Mechant Type 1. Ride Biz (Uber, Lyft)**\n",
        "\n",
        "*   Peak hours (7 - 9 am & 5 - 7pm weekdays, 5 pm - 5 am weekends)\n",
        "*   Price range (ATV: 10 to 50 USD, max < 100 USD)\n",
        "\n",
        "\n",
        "Reference: [Uber website](https://www.uber.com/en-AU/blog/making-the-most-of-your-time-on-the-road/)\n",
        "\n"
      ],
      "metadata": {
        "id": "Mh-hs4gfcS9l"
      }
    },
    {
      "cell_type": "code",
      "source": [
        "    ## We assign +1 point for transactions in this regime\n",
        "\n",
        "weekdays = [0, 1, 2, 3, 6]\n",
        "weekends = [4, 5]\n",
        "\n",
        "weekday_peak_hrs = [7, 8, 17, 18]\n",
        "weekend_peak_hrs = [17, 18, 19, 20, 21, 22, 23, 0, 1, 2, 3, 4]\n",
        "\n",
        "weekday_peak = (data.time.dt.weekday.apply(lambda x: x in weekdays)) & (data.time.dt.hour.apply(lambda x: x in weekday_peak_hrs))\n",
        "weekend_peak = (data.time.dt.weekday.apply(lambda x: x in weekends)) & (data.time.dt.hour.apply(lambda x: x in weekend_peak_hrs))\n",
        "\n",
        "ride_biz_point = (weekday_peak) | (weekend_peak)\n",
        "data['ride_biz_point'] = ride_biz_point\n",
        "\n",
        "    # Now calculate the probability of a merchant being in the ride business\n",
        "    # Note that we should normalize points with total hours -> call it density\n",
        "\n",
        "peak_rides_density = data.groupby('id').sum().ride_biz_point / (len(weekday_peak_hrs)*len(weekdays) + len(weekend_peak_hrs)*len(weekends))\n",
        "total_rides_density = data.groupby('id').count().ride_biz_point / (24*7)\n",
        "ride_biz_bool =  (peak_rides_density / total_rides_density) > 0.7\n",
        "\n",
        "ATV = data.groupby('id').sum().usd / data.groupby('id').count().usd \n",
        "ATV_bool = (10 <= ATV) & (ATV <= 50)\n",
        "\n",
        "ride_biz_list = list(set(ride_biz_bool[ride_biz_bool].index) & set(ATV_bool[ATV_bool].index))"
      ],
      "metadata": {
        "id": "fkzkOWEP_anX"
      },
      "execution_count": null,
      "outputs": []
    },
    {
      "cell_type": "markdown",
      "source": [
        "**Merchant Type 2. E-commerce & Retail (Amazon, Shopify)**\n",
        "\n",
        "*   ATV (average transaction value) in 75 ~ 102 USD range.\n",
        "*   Sales dramatically peak in December.\n",
        "\n",
        "Reference: [Adobe Biz Intelligence website](https://business.adobe.com/products/magento/business-intelligence.html)\n"
      ],
      "metadata": {
        "id": "p0TopKghcYCT"
      }
    },
    {
      "cell_type": "code",
      "source": [
        "## ATV\n",
        "ATV_bool = (75 <= ATV) & (ATV <= 102)\n",
        "\n",
        "## DEC peak\n",
        "DEC_sales = data[data.time.dt.month == 12].groupby('id').sum().usd/1\n",
        "REG_sales = data[data.time.dt.month != 12].groupby('id').sum().usd/11\n",
        "\n",
        "DEC_REG_merged = pd.merge(DEC_sales, REG_sales, on = 'id')\n",
        "DEC_peak_bool = (DEC_REG_merged.usd_x / DEC_REG_merged.usd_y) > 10\n",
        "DEC_peak_bool.name = 'usd'\n",
        "\n",
        "## Combine\n",
        "eCommerce = pd.merge(ATV_bool, DEC_peak_bool, on = 'id')\n",
        "ATV_DEC = (eCommerce.usd_x) & (eCommerce.usd_y)\n",
        "eCommerce_list = list(ATV_DEC[ATV_DEC].index) "
      ],
      "metadata": {
        "id": "ShMjcCsRVBeG"
      },
      "execution_count": null,
      "outputs": []
    },
    {
      "cell_type": "markdown",
      "source": [
        "**Merchant Type 3. Enterprise (Google, Microsoft)**\n",
        "\n",
        "*   Corporations with large market cap will likely be the only ones who can easily spend more than 10 K USD per transaction.\n",
        "\n",
        "Basis: My assumption"
      ],
      "metadata": {
        "id": "QAmQ60rNorNl"
      }
    },
    {
      "cell_type": "code",
      "source": [
        "enterprise_bool = (ATV > 20*1e3)\n",
        "enterprise_list = list(enterprise_bool[enterprise_bool].index)\n",
        "len(enterprise_list)"
      ],
      "metadata": {
        "colab": {
          "base_uri": "https://localhost:8080/"
        },
        "id": "0aaEnMOTpB7H",
        "outputId": "87ab3c37-61c0-45bd-a10a-834abc3ca2ca"
      },
      "execution_count": null,
      "outputs": [
        {
          "output_type": "execute_result",
          "data": {
            "text/plain": [
              "5"
            ]
          },
          "metadata": {},
          "execution_count": 6
        }
      ]
    },
    {
      "cell_type": "markdown",
      "source": [
        "**Merchant Type 4. Travel Agencies (Expedia, Bookings.com)**\n",
        "\n",
        "*   A peculiar aspect of travel agencies' quarterly revenue is that it spikes in September.\n",
        "\n",
        "Reference: [Quarterly revenue history](https://www.google.com/search?q=expedia+revenue+by+quarter&bih=853&biw=1527&hl=en&sxsrf=APq-WBuRUhRdkozPPwG4wcCH_ITNGx738A%3A1648153193388&ei=adI8YsaYF8KnptQPvciO6AI&ved=0ahUKEwiG8YGNyd_2AhXCk4kEHT2kAy0Q4dUDCA4&uact=5&oq=expedia+revenue+by+quarter&gs_lcp=Cgdnd3Mtd2l6EAMyCAghEBYQHRAeOgcIIxCwAxAnOgcIABBHELADOgYIABAWEB5KBAhBGABKBAhGGABQdli_B2C9CmgBcAF4AIABRIgBmgOSAQE3mAEAoAEByAEJwAEB&sclient=gws-wiz)"
      ],
      "metadata": {
        "id": "fP5XCDyOpNyw"
      }
    },
    {
      "cell_type": "code",
      "source": [
        "SEP_sales = data[data.time.dt.month == 9].groupby('id').sum().usd/1\n",
        "REG_sales = data[data.time.dt.month != 9].groupby('id').sum().usd/11\n",
        "\n",
        "SEP_REG_merged = pd.merge(SEP_sales, REG_sales, on = 'id')\n",
        "SEP_peak_bool = (SEP_REG_merged.usd_x / SEP_REG_merged.usd_y) > 10\n",
        "SEP_peak_bool.name = 'usd'\n",
        "\n",
        "travel_agency_list = list(SEP_peak_bool[SEP_peak_bool].index) "
      ],
      "metadata": {
        "id": "BY03grT3piYW"
      },
      "execution_count": null,
      "outputs": []
    },
    {
      "cell_type": "markdown",
      "source": [
        "**Merchant Type 5. Growth Companies (Zillow, Slack)**\n",
        "\n",
        "*   Growth companies are normally defined as ones that show more than 20% growth YoY\n",
        "*   We include startups, but exclude Enterprise."
      ],
      "metadata": {
        "id": "MuuGYO20t6HS"
      }
    },
    {
      "cell_type": "code",
      "source": [
        "year2033 = (data.time.dt.year == 2033)\n",
        "rev_2033 = data[year2033].groupby('id').sum().usd\n",
        "rev_2034 = data[~year2033].groupby('id').sum().usd\n",
        "\n",
        "rev_merged = pd.merge(rev_2033, rev_2034, on = 'id')\n",
        "growth_bool = (rev_merged.usd_y / rev_merged.usd_x) > 1.20\n",
        "growth_bool.name = 'usd'\n",
        "\n",
        "growth_MEDSMALL = pd.merge(growth_bool, ~enterprise_bool, on = 'id')\n",
        "growth_bool = (growth_MEDSMALL.usd_x) & (growth_MEDSMALL.usd_y)\n",
        "\n",
        "growth_company_list = list(growth_bool[growth_bool].index)"
      ],
      "metadata": {
        "id": "Px8bHAA5uEEg"
      },
      "execution_count": null,
      "outputs": []
    },
    {
      "cell_type": "code",
      "source": [
        "len(ride_biz_list), len(eCommerce_list), len(enterprise_list), len(travel_agency_list), len(growth_company_list)"
      ],
      "metadata": {
        "colab": {
          "base_uri": "https://localhost:8080/"
        },
        "id": "alrD2H6X0_hp",
        "outputId": "2fc3d6ec-1c6c-4876-8078-1e39f125021e"
      },
      "execution_count": null,
      "outputs": [
        {
          "output_type": "execute_result",
          "data": {
            "text/plain": [
              "(1841, 113, 5, 448, 2837)"
            ]
          },
          "metadata": {},
          "execution_count": 9
        }
      ]
    },
    {
      "cell_type": "markdown",
      "source": [
        "## Sample visuals"
      ],
      "metadata": {
        "id": "05pwSzUYFVmg"
      }
    },
    {
      "cell_type": "markdown",
      "source": [
        "### Merchant Type 1. Ride Apps"
      ],
      "metadata": {
        "id": "FgyWtThbQI96"
      }
    },
    {
      "cell_type": "code",
      "source": [
        "rides = data[data.id.isin(ride_biz_list)]"
      ],
      "metadata": {
        "id": "WEsRw0hgNK32"
      },
      "execution_count": null,
      "outputs": []
    },
    {
      "cell_type": "code",
      "source": [
        "%%capture --no-display\n",
        "rides = rides[(rides.usd < 100)]\n",
        "rides['weekend'] = rides.time.dt.weekday.isin({4, 5})\n",
        "rides['hour'] = rides.time.dt.hour\n",
        "\n",
        "fig = sns.lineplot(data=rides, x=\"hour\", y=\"usd\", hue=\"weekend\").set_title('Ride Apps')\n",
        "plt.xlabel('Hour')\n",
        "plt.ylabel('Transactions (USD)')"
      ],
      "metadata": {
        "colab": {
          "base_uri": "https://localhost:8080/",
          "height": 312
        },
        "id": "wTXWqY2POXvp",
        "outputId": "4e050224-b328-4827-f912-ce070f3eaefd"
      },
      "execution_count": null,
      "outputs": [
        {
          "output_type": "execute_result",
          "data": {
            "text/plain": [
              "Text(0, 0.5, 'Transactions (USD)')"
            ]
          },
          "metadata": {},
          "execution_count": 11
        },
        {
          "output_type": "display_data",
          "data": {
            "text/plain": [
              "<Figure size 432x288 with 1 Axes>"
            ],
            "image/png": "[encoded data removed]"
          },
          "metadata": {
            "needs_background": "light"
          }
        }
      ]
    },
    {
      "cell_type": "markdown",
      "source": [
        "### Merchant Type 2. E-commerce & Retail"
      ],
      "metadata": {
        "id": "aVFpyaiYQd8W"
      }
    },
    {
      "cell_type": "code",
      "source": [
        "retails = data[data.id.isin(eCommerce_list)]"
      ],
      "metadata": {
        "id": "U4W-hWQrQocT"
      },
      "execution_count": null,
      "outputs": []
    },
    {
      "cell_type": "code",
      "source": [
        "%%capture --no-display\n",
        "ATV_retails = retails.groupby('id').sum().usd / retails.groupby('id').count().usd\n",
        "major_retails_list = ATV_retails[ATV_retails.apply(lambda x: True if x >= 95 else False)]\n",
        "\n",
        "retails['e-Commerce corp'] = data.id.apply(lambda x: 'major players' if x in major_retails_list else 'minority')\n",
        "retails['month'] = retails.time.dt.month\n",
        "\n",
        "sns.set_style(\"white\")\n",
        "fig = sns.lineplot(data=retails, x=\"month\", y=\"usd\", hue=\"e-Commerce corp\").set_title('E-commerce & Retail')\n",
        "plt.xlabel('Month')\n",
        "plt.ylabel('ATV (USD)')"
      ],
      "metadata": {
        "colab": {
          "base_uri": "https://localhost:8080/",
          "height": 312
        },
        "id": "30AopLNUTHhy",
        "outputId": "c61df9c9-af77-47cf-affb-b333354beb7c"
      },
      "execution_count": null,
      "outputs": [
        {
          "output_type": "execute_result",
          "data": {
            "text/plain": [
              "Text(0, 0.5, 'ATV (USD)')"
            ]
          },
          "metadata": {},
          "execution_count": 13
        },
        {
          "output_type": "display_data",
          "data": {
            "text/plain": [
              "<Figure size 432x288 with 1 Axes>"
            ],
            "image/png": "[encoded data removed]"
          },
          "metadata": {}
        }
      ]
    },
    {
      "cell_type": "markdown",
      "source": [
        "### Merchant Type 3. Enterprise"
      ],
      "metadata": {
        "id": "q6bkCE3vQyM3"
      }
    },
    {
      "cell_type": "code",
      "source": [
        "enterprises = data[data.id.isin(enterprise_list)]"
      ],
      "metadata": {
        "id": "WMFZ_uxQQ_Kh"
      },
      "execution_count": null,
      "outputs": []
    },
    {
      "cell_type": "code",
      "source": [
        "df_ent = enterprises.pivot_table(index = 'id', columns = 'time', values = 'usd', fill_value = np.NaN)\n",
        "\n",
        "df_ent['sample_mean'] = df_ent.sum(axis=1)/df_ent.T.count()\n",
        "mean_under_H0 = 20*1e3\n",
        "df_ent['sample_std'] = np.sqrt((df_ent ** 2).sum(axis=1) - df_ent.T.count()*((df_ent.sum(axis=1)/df_ent.T.count())**2))\n",
        "df_ent['pval'] = 1 - stats.t.cdf((df_ent.sample_mean - mean_under_H0)/(df_ent.sample_std/np.sqrt(df_ent.T.count())), df_ent.T.count()-1)\n",
        "test_alphas = np.array([0.3, 0.2, 0.05])\n",
        "df_ent[['alpha1', 'alpha2', 'alpha3']] = test_alphas\n",
        "\n",
        "passed = np.array([sum(df_ent.pval < df_ent.alpha3)/len(df_ent)*100, sum(df_ent.pval < df_ent.alpha2)/len(df_ent)*100, sum(df_ent.pval < df_ent.alpha1)/len(df_ent)*100])\n",
        "sns.set_style('darkgrid')\n",
        "plt.figure(figsize=(5,4))\n",
        "fig = sns.barplot(test_alphas, passed, palette = 'coolwarm').set_title('Enterprise T-test')\n",
        "plt.xlabel('Significance Level (alpha)')\n",
        "plt.ylabel('T-test Pass rate')"
      ],
      "metadata": {
        "colab": {
          "base_uri": "https://localhost:8080/",
          "height": 367
        },
        "id": "ZcJ00_gNDZfM",
        "outputId": "ef310311-e1a4-4c40-caf6-c228702e559f"
      },
      "execution_count": null,
      "outputs": [
        {
          "output_type": "stream",
          "name": "stderr",
          "text": [
            "/usr/local/lib/python3.7/dist-packages/seaborn/_decorators.py:43: FutureWarning: Pass the following variables as keyword args: x, y. From version 0.12, the only valid positional argument will be `data`, and passing other arguments without an explicit keyword will result in an error or misinterpretation.\n",
            "  FutureWarning\n"
          ]
        },
        {
          "output_type": "execute_result",
          "data": {
            "text/plain": [
              "Text(0, 0.5, 'T-test Pass rate')"
            ]
          },
          "metadata": {},
          "execution_count": 15
        },
        {
          "output_type": "display_data",
          "data": {
            "text/plain": [
              "<Figure size 360x288 with 1 Axes>"
            ],
            "image/png": "[encoded data removed]"
          },
          "metadata": {}
        }
      ]
    },
    {
      "cell_type": "markdown",
      "source": [
        "### Merchant Type 4. Travels"
      ],
      "metadata": {
        "id": "Dtakg-tXQyso"
      }
    },
    {
      "cell_type": "code",
      "source": [
        "travels = data[data.id.isin(travel_agency_list)]"
      ],
      "metadata": {
        "id": "bE-0FWm0REZi"
      },
      "execution_count": null,
      "outputs": []
    },
    {
      "cell_type": "code",
      "source": [
        "%%capture --no-display\n",
        "travels['month'] = travels.time.dt.month\n",
        "df_travels = travels.groupby('month').sum().reset_index()\n",
        "fig = sns.lineplot(data = df_travels, x = 'month', y = 'usd').set_title('Travel Agencies')\n",
        "plt.xlabel('Month')\n",
        "plt.ylabel('Total transaction (USD)')"
      ],
      "metadata": {
        "colab": {
          "base_uri": "https://localhost:8080/",
          "height": 312
        },
        "id": "EhPyvgwbZiId",
        "outputId": "5e1ba7d4-a426-4c77-cfee-cf3214bb7c57"
      },
      "execution_count": null,
      "outputs": [
        {
          "output_type": "execute_result",
          "data": {
            "text/plain": [
              "Text(0, 0.5, 'Total transaction (USD)')"
            ]
          },
          "metadata": {},
          "execution_count": 17
        },
        {
          "output_type": "display_data",
          "data": {
            "text/plain": [
              "<Figure size 432x288 with 1 Axes>"
            ],
            "image/png": "[encoded data removed]"
          },
          "metadata": {}
        }
      ]
    },
    {
      "cell_type": "markdown",
      "source": [
        "### Merchant Type 5. Growth Companies"
      ],
      "metadata": {
        "id": "cFC3T0dMQyyM"
      }
    },
    {
      "cell_type": "code",
      "source": [
        "growths = data[data.id.isin(growth_company_list)]"
      ],
      "metadata": {
        "id": "IsoBVnaNRIPt"
      },
      "execution_count": null,
      "outputs": []
    },
    {
      "cell_type": "code",
      "source": [
        "%%capture --no-display\n",
        "growths['year'] = growths.time.dt.year\n",
        "df_growths = growths.groupby(['id', 'year']).sum()\n",
        "df_growths['tier'] = df_growths.usd.apply(lambda x: 'tier1' if x > 100*1e3 else ('tier3' if x < 10*1e3 else 'tier2'))           \n",
        "\n",
        "fig = sns.barplot(data = df_growths.groupby(['year', 'tier']).sum().reset_index(), x = 'year', y = 'usd', hue = 'tier', palette = 'rocket').set_title('Growth companies')\n",
        "plt.ylabel('Transactions (1e7 USD)')"
      ],
      "metadata": {
        "colab": {
          "base_uri": "https://localhost:8080/",
          "height": 312
        },
        "id": "Il1KgXBk8XNX",
        "outputId": "48f11634-4fbb-46b1-ea64-28dcd1cf4c12"
      },
      "execution_count": null,
      "outputs": [
        {
          "output_type": "execute_result",
          "data": {
            "text/plain": [
              "Text(0, 0.5, 'Transactions (1e7 USD)')"
            ]
          },
          "metadata": {},
          "execution_count": 19
        },
        {
          "output_type": "display_data",
          "data": {
            "text/plain": [
              "<Figure size 432x288 with 1 Axes>"
            ],
            "image/png": "[encoded data removed]"
          },
          "metadata": {}
        }
      ]
    },
    {
      "cell_type": "markdown",
      "source": [
        "## Part 2. Define, Identify, and Predict churn"
      ],
      "metadata": {
        "id": "l0PGFAwh1IxR"
      }
    },
    {
      "cell_type": "markdown",
      "source": [
        "### 2.1. Define churn"
      ],
      "metadata": {
        "id": "uDz8FMzdRWYr"
      }
    },
    {
      "cell_type": "markdown",
      "source": [
        "#### (a) Type 1. Duration churn\n",
        "Since the last transaction, no further transaction has occurred for more than the maximum interval observed."
      ],
      "metadata": {
        "id": "bVrsw6JZRi9R"
      }
    },
    {
      "cell_type": "markdown",
      "source": [
        "#### (b) Type 2. Dollar churn\n",
        "There is a clear sign of decay in transaction USD amount, i.e., at least 50% decay for more than 3 consecutive latest transactions."
      ],
      "metadata": {
        "id": "emGbFr7-Rprm"
      }
    },
    {
      "cell_type": "markdown",
      "source": [
        "### 2.2. Identify churn"
      ],
      "metadata": {
        "id": "2UnRNwpcRWa2"
      }
    },
    {
      "cell_type": "code",
      "source": [
        "# Set 8 features for churn identification, which will be used for prediection as well\n",
        "\n",
        "id = pd.Series(data.id.unique()).apply(lambda x: x)\n",
        "merchant_type = pd.Series(data.id.unique()).apply(lambda x: 'Ride_App' if x in ride_biz_list else('eCommerce_Retail' if x in eCommerce_list else('Travels' if x in travel_agency_list else ('growth_compnay_list' if x in growth_company_list else 'Enterprise'))))\n",
        "span = (data.groupby('id').max().time - data.groupby('id').min().time).dt.days\n",
        "atv = data.groupby('id').mean().usd \n",
        "freq = (data.groupby('id').count().usd / span).replace(np.inf, 0) # [number/day]\n",
        "data['diffr'] = data.sort_values('id').reset_index().time - data.sort_values('id').reset_index().time.shift(1)\n",
        "max_interval = data.groupby('id').max().diffr.dt.days.apply(lambda x: 0 if x < 0 else x) \n",
        "since_last_trans = (data.groupby('id').max().time - data.time.min()).dt.days \n",
        "\n",
        "last1 = data.sort_values(['id', 'time']).groupby('id').nth(-3).usd\n",
        "last2 = data.sort_values(['id', 'time']).groupby('id').nth(-2).usd\n",
        "last3 = data.sort_values(['id', 'time']).groupby('id').nth(-1).usd"
      ],
      "metadata": {
        "id": "i_lJoTGUpUzi"
      },
      "execution_count": null,
      "outputs": []
    },
    {
      "cell_type": "code",
      "source": [
        "# Identify churn\n",
        "type1_churn = (max_interval < since_last_trans)\n",
        "type1_churn_list = list(type1_churn[type1_churn].index)\n",
        "\n",
        "type2_churn = ((last2-last1)/last2 >= 0.5) & ((last3-last2)/last3 >= 0.5)\n",
        "type2_churn_list = list(type2_churn[type2_churn].index)\n",
        "\n",
        "print(f'There exists {len(type1_churn_list)} cases of type 1 and {len(type2_churn_list)} cases of type 2 churns.')"
      ],
      "metadata": {
        "colab": {
          "base_uri": "https://localhost:8080/"
        },
        "id": "_u4BnqXH7w0J",
        "outputId": "73a9c3f6-69d4-4e92-b61c-325a6cd48a5d"
      },
      "execution_count": null,
      "outputs": [
        {
          "output_type": "stream",
          "name": "stdout",
          "text": [
            "There exists 13044 cases of type 1 and 191 cases of type 2 churns.\n"
          ]
        }
      ]
    },
    {
      "cell_type": "code",
      "source": [
        "# Example graph - churn type 1\n",
        "\n",
        "fig, ax = plt.subplots(figsize = (8,5))\n",
        "type1_examples = [8, 11, 14]\n",
        "\n",
        "for elm in type1_examples:\n",
        "  type1_sample = data[data.id == type1_churn_list[elm]][['time', 'usd']].reset_index(drop=True)\n",
        "  type1_sample['days'] = (type1_sample.time - np.datetime64('2033-01-01')).apply(lambda x: x.days)\n",
        "  fig = sns.lineplot(data = type1_sample, x = 'days', y = 'usd', ci = None, label = 'Customer_'+str(elm)).set_title('Type 1 churn examples')\n",
        "\n",
        "ax.set_xlim(0, 365*2)\n",
        "plt.xlabel('Days since 2033-01-01')\n",
        "plt.ylabel('Transactions (USD)')"
      ],
      "metadata": {
        "colab": {
          "base_uri": "https://localhost:8080/",
          "height": 367
        },
        "id": "IHIBbYtY9gdI",
        "outputId": "ec3efb47-19e6-4901-9d60-25ecc7fc2e4a"
      },
      "execution_count": null,
      "outputs": [
        {
          "output_type": "execute_result",
          "data": {
            "text/plain": [
              "Text(0, 0.5, 'Transactions (USD)')"
            ]
          },
          "metadata": {},
          "execution_count": 22
        },
        {
          "output_type": "display_data",
          "data": {
            "text/plain": [
              "<Figure size 576x360 with 1 Axes>"
            ],
            "image/png": "[encoded data removed]"
          },
          "metadata": {}
        }
      ]
    },
    {
      "cell_type": "code",
      "source": [
        "# Example graph - churn type 2\n",
        "\n",
        "fig, ax = plt.subplots(figsize = (8,5))\n",
        "type2_examples = [15, 129]\n",
        "\n",
        "for elm in type2_examples:\n",
        "  type2_sample = data[data.id == type2_churn_list[elm]][['time', 'usd']].reset_index(drop=True)\n",
        "  type2_sample['days'] = (type2_sample.time - np.datetime64('2033-01-01')).apply(lambda x: x.days)\n",
        "  fig = sns.lineplot(data = type2_sample, x = 'days', y = 'usd', ci = None, marker = 'o', label = 'Customer_'+str(elm)).set_title('Type 2 churn examples')\n",
        "\n",
        "ax.set_xlim(0, 365*2)\n",
        "plt.xlabel('Days since 2033-01-01')\n",
        "plt.ylabel('Transactions (USD)')"
      ],
      "metadata": {
        "colab": {
          "base_uri": "https://localhost:8080/",
          "height": 367
        },
        "id": "LxTYOjKc95gD",
        "outputId": "a2dd0fb0-aff3-4123-fcb9-20aba9e9364b"
      },
      "execution_count": null,
      "outputs": [
        {
          "output_type": "execute_result",
          "data": {
            "text/plain": [
              "Text(0, 0.5, 'Transactions (USD)')"
            ]
          },
          "metadata": {},
          "execution_count": 23
        },
        {
          "output_type": "display_data",
          "data": {
            "text/plain": [
              "<Figure size 576x360 with 1 Axes>"
            ],
            "image/png": "[encoded data removed]"
          },
          "metadata": {}
        }
      ]
    },
    {
      "cell_type": "markdown",
      "source": [
        "### 2.3. Predict churn"
      ],
      "metadata": {
        "id": "OLNR5XddRWc4"
      }
    },
    {
      "cell_type": "markdown",
      "source": [
        "#### Construct & Pre-process data"
      ],
      "metadata": {
        "id": "EVrL_mxBwxbl"
      }
    },
    {
      "cell_type": "code",
      "source": [
        "# Construct\n",
        "merchant_type.index = id\n",
        "merchant = pd.DataFrame(span).reset_index().id.apply(lambda x: merchant_type[str(x)])\n",
        "merchant.name = 'merchant'\n",
        "\n",
        "freq.name, span.name, atv.name, max_interval.name, since_last_trans.name = 'freq', 'span', 'atv', 'max_interval', 'since_last_trans'\n",
        "\n",
        "temp = pd.concat([span, atv, freq, max_interval, since_last_trans], axis=1).reset_index()\n",
        "df = pd.concat([temp, merchant], axis=1)\n",
        "\n",
        "df['churn_type_1'] = df.id.apply(lambda x: True if x in type1_churn_list else False)\n",
        "df['churn_type_2'] = df.id.apply(lambda x: True if x in type2_churn_list else False)\n",
        "df['churn'] = (df.churn_type_1 | df.churn_type_2)\n",
        "\n",
        "decay1, decay2 = last1/last2, last2/last3\n",
        "\n",
        "df['decay1'] = df.id.apply(lambda x: decay1[str(x)] if x in list(decay1.index) else 0).fillna(0)\n",
        "df['decay2'] = df.id.apply(lambda x: decay2[str(x)] if x in list(decay2.index) else 0).fillna(0)\n",
        "\n",
        "df.head(3)"
      ],
      "metadata": {
        "colab": {
          "base_uri": "https://localhost:8080/",
          "height": 143
        },
        "id": "KOeEoGFoRd_z",
        "outputId": "bd880bcb-64aa-4cbb-c61b-1f71db3accb6"
      },
      "execution_count": null,
      "outputs": [
        {
          "output_type": "execute_result",
          "data": {
            "text/plain": [
              "           id  span         atv      freq  max_interval  since_last_trans  \\\n",
              "0  0002b63b92     0   33.790000  0.000000             0               135   \n",
              "1  0002d07bba    64  223.195000  0.062500           331               713   \n",
              "2  00057d4302    66   10.543214  0.424242           342               214   \n",
              "\n",
              "     merchant  churn_type_1  churn_type_2  churn    decay1     decay2  \n",
              "0  Enterprise          True         False   True  0.000000   0.000000  \n",
              "1  Enterprise          True         False   True  0.862871  21.313563  \n",
              "2  Enterprise         False         False  False  1.384097   0.594551  "
            ],
            "text/html": [
              "\n",
              "  <div id=\"df-d38cc4e3-793b-4544-b0ca-e7486c1ff799\">\n",
              "    <div class=\"colab-df-container\">\n",
              "      <div>\n",
              "<style scoped>\n",
              "    .dataframe tbody tr th:only-of-type {\n",
              "        vertical-align: middle;\n",
              "    }\n",
              "\n",
              "    .dataframe tbody tr th {\n",
              "        vertical-align: top;\n",
              "    }\n",
              "\n",
              "    .dataframe thead th {\n",
              "        text-align: right;\n",
              "    }\n",
              "</style>\n",
              "<table border=\"1\" class=\"dataframe\">\n",
              "  <thead>\n",
              "    <tr style=\"text-align: right;\">\n",
              "      <th></th>\n",
              "      <th>id</th>\n",
              "      <th>span</th>\n",
              "      <th>atv</th>\n",
              "      <th>freq</th>\n",
              "      <th>max_interval</th>\n",
              "      <th>since_last_trans</th>\n",
              "      <th>merchant</th>\n",
              "      <th>churn_type_1</th>\n",
              "      <th>churn_type_2</th>\n",
              "      <th>churn</th>\n",
              "      <th>decay1</th>\n",
              "      <th>decay2</th>\n",
              "    </tr>\n",
              "  </thead>\n",
              "  <tbody>\n",
              "    <tr>\n",
              "      <th>0</th>\n",
              "      <td>0002b63b92</td>\n",
              "      <td>0</td>\n",
              "      <td>33.790000</td>\n",
              "      <td>0.000000</td>\n",
              "      <td>0</td>\n",
              "      <td>135</td>\n",
              "      <td>Enterprise</td>\n",
              "      <td>True</td>\n",
              "      <td>False</td>\n",
              "      <td>True</td>\n",
              "      <td>0.000000</td>\n",
              "      <td>0.000000</td>\n",
              "    </tr>\n",
              "    <tr>\n",
              "      <th>1</th>\n",
              "      <td>0002d07bba</td>\n",
              "      <td>64</td>\n",
              "      <td>223.195000</td>\n",
              "      <td>0.062500</td>\n",
              "      <td>331</td>\n",
              "      <td>713</td>\n",
              "      <td>Enterprise</td>\n",
              "      <td>True</td>\n",
              "      <td>False</td>\n",
              "      <td>True</td>\n",
              "      <td>0.862871</td>\n",
              "      <td>21.313563</td>\n",
              "    </tr>\n",
              "    <tr>\n",
              "      <th>2</th>\n",
              "      <td>00057d4302</td>\n",
              "      <td>66</td>\n",
              "      <td>10.543214</td>\n",
              "      <td>0.424242</td>\n",
              "      <td>342</td>\n",
              "      <td>214</td>\n",
              "      <td>Enterprise</td>\n",
              "      <td>False</td>\n",
              "      <td>False</td>\n",
              "      <td>False</td>\n",
              "      <td>1.384097</td>\n",
              "      <td>0.594551</td>\n",
              "    </tr>\n",
              "  </tbody>\n",
              "</table>\n",
              "</div>\n",
              "      <button class=\"colab-df-convert\" onclick=\"convertToInteractive('df-d38cc4e3-793b-4544-b0ca-e7486c1ff799')\"\n",
              "              title=\"Convert this dataframe to an interactive table.\"\n",
              "              style=\"display:none;\">\n",
              "        \n",
              "  <svg xmlns=\"http://www.w3.org/2000/svg\" height=\"24px\"viewBox=\"0 0 24 24\"\n",
              "       width=\"24px\">\n",
              "    <path d=\"M0 0h24v24H0V0z\" fill=\"none\"/>\n",
              "    <path d=\"M18.56 5.44l.94 2.06.94-2.06 2.06-.94-2.06-.94-.94-2.06-.94 2.06-2.06.94zm-11 1L8.5 8.5l.94-2.06 2.06-.94-2.06-.94L8.5 2.5l-.94 2.06-2.06.94zm10 10l.94 2.06.94-2.06 2.06-.94-2.06-.94-.94-2.06-.94 2.06-2.06.94z\"/><path d=\"M17.41 7.96l-1.37-1.37c-.4-.4-.92-.59-1.43-.59-.52 0-1.04.2-1.43.59L10.3 9.45l-7.72 7.72c-.78.78-.78 2.05 0 2.83L4 21.41c.39.39.9.59 1.41.59.51 0 1.02-.2 1.41-.59l7.78-7.78 2.81-2.81c.8-.78.8-2.07 0-2.86zM5.41 20L4 18.59l7.72-7.72 1.47 1.35L5.41 20z\"/>\n",
              "  </svg>\n",
              "      </button>\n",
              "      \n",
              "  <style>\n",
              "    .colab-df-container {\n",
              "      display:flex;\n",
              "      flex-wrap:wrap;\n",
              "      gap: 12px;\n",
              "    }\n",
              "\n",
              "    .colab-df-convert {\n",
              "      background-color: #E8F0FE;\n",
              "      border: none;\n",
              "      border-radius: 50%;\n",
              "      cursor: pointer;\n",
              "      display: none;\n",
              "      fill: #1967D2;\n",
              "      height: 32px;\n",
              "      padding: 0 0 0 0;\n",
              "      width: 32px;\n",
              "    }\n",
              "\n",
              "    .colab-df-convert:hover {\n",
              "      background-color: #E2EBFA;\n",
              "      box-shadow: 0px 1px 2px rgba(60, 64, 67, 0.3), 0px 1px 3px 1px rgba(60, 64, 67, 0.15);\n",
              "      fill: #174EA6;\n",
              "    }\n",
              "\n",
              "    [theme=dark] .colab-df-convert {\n",
              "      background-color: #3B4455;\n",
              "      fill: #D2E3FC;\n",
              "    }\n",
              "\n",
              "    [theme=dark] .colab-df-convert:hover {\n",
              "      background-color: #434B5C;\n",
              "      box-shadow: 0px 1px 3px 1px rgba(0, 0, 0, 0.15);\n",
              "      filter: drop-shadow(0px 1px 2px rgba(0, 0, 0, 0.3));\n",
              "      fill: #FFFFFF;\n",
              "    }\n",
              "  </style>\n",
              "\n",
              "      <script>\n",
              "        const buttonEl =\n",
              "          document.querySelector('#df-d38cc4e3-793b-4544-b0ca-e7486c1ff799 button.colab-df-convert');\n",
              "        buttonEl.style.display =\n",
              "          google.colab.kernel.accessAllowed ? 'block' : 'none';\n",
              "\n",
              "        async function convertToInteractive(key) {\n",
              "          const element = document.querySelector('#df-d38cc4e3-793b-4544-b0ca-e7486c1ff799');\n",
              "          const dataTable =\n",
              "            await google.colab.kernel.invokeFunction('convertToInteractive',\n",
              "                                                     [key], {});\n",
              "          if (!dataTable) return;\n",
              "\n",
              "          const docLinkHtml = 'Like what you see? Visit the ' +\n",
              "            '<a target=\"_blank\" href=https://colab.research.google.com/notebooks/data_table.ipynb>data table notebook</a>'\n",
              "            + ' to learn more about interactive tables.';\n",
              "          element.innerHTML = '';\n",
              "          dataTable['output_type'] = 'display_data';\n",
              "          await google.colab.output.renderOutput(dataTable, element);\n",
              "          const docLink = document.createElement('div');\n",
              "          docLink.innerHTML = docLinkHtml;\n",
              "          element.appendChild(docLink);\n",
              "        }\n",
              "      </script>\n",
              "    </div>\n",
              "  </div>\n",
              "  "
            ]
          },
          "metadata": {},
          "execution_count": 24
        }
      ]
    },
    {
      "cell_type": "code",
      "source": [
        "# Pre-process\n",
        "\n",
        "## 1. One-Hot Encode Categorical Data\n",
        "merch_cat = pd.get_dummies(df.merchant)\n",
        "\n",
        "## 2. Normalize Data\n",
        "## - Unnecessary for tree-based models (GBDT), but it will be useful for other ML algos, such as NN\n",
        "temp = df.drop(columns = ['id', 'merchant', 'churn_type_1', 'churn_type_2', 'churn'])\n",
        "norm = (temp - temp.min())/(temp.max() - temp.min())\n",
        "\n",
        "## 3. define x, y\n",
        "x = pd.concat([norm, merch_cat], axis=1)\n",
        "y = df.churn.astype(int)"
      ],
      "metadata": {
        "id": "o9OkSYJwxBYE"
      },
      "execution_count": null,
      "outputs": []
    },
    {
      "cell_type": "markdown",
      "source": [
        "#### GBDT (Gradient-Boosted Decision Tree) Classification"
      ],
      "metadata": {
        "id": "iwa7L85OxLwD"
      }
    },
    {
      "cell_type": "code",
      "source": [
        "# split data\n",
        "x_train, x_test, y_train, y_test = train_test_split(x, y, test_size = .2)                                        \n",
        "\n",
        "# Candidate regressors\n",
        "ensemble_clfs = [\n",
        "   \n",
        "    (\"GBDT Classifier, max_features='log2'\", \n",
        "                GradientBoostingClassifier(loss = 'deviance',\n",
        "                                        learning_rate = 0.05,\n",
        "                                        criterion = 'friedman_mse',\n",
        "                                        max_depth = 5,\n",
        "                                        random_state = 42,\n",
        "                                        max_features = 'log2',\n",
        "                                        warm_start = True\n",
        "                                        )),\n",
        "    \n",
        "     (\"GBDT Classifier, max_features=None\", \n",
        "                GradientBoostingClassifier(loss = 'deviance',\n",
        "                                        learning_rate = 0.05,\n",
        "                                        criterion = 'friedman_mse',\n",
        "                                        max_depth = 5,\n",
        "                                        random_state = 42,\n",
        "                                        max_features = None,\n",
        "                                        warm_start = True\n",
        "                                        ))\n",
        "]\n",
        "\n",
        "\n",
        "score = { \"GBDT Classifier, max_features='log2'\": [],  \"GBDT Classifier, max_features=None\": []}\n",
        "\n",
        "error_rate = OrderedDict((label, []) for label, _ in ensemble_clfs)\n",
        "\n",
        "min_estimators = 1\n",
        "max_estimators = 50\n",
        "\n",
        "for label, clf in ensemble_clfs:\n",
        "    for i in tqdm(range(min_estimators, max_estimators + 1)):\n",
        "        clf.set_params(n_estimators = i)\n",
        "        clf.fit(x_train, y_train)\n",
        "        score[label].append((i, clf.score(x_train, y_train), clf.score(x_test, y_test)))\n",
        "        \n",
        "    \n",
        "# Plot train and test scores\n",
        "fig, ax = plt.subplots(1, 2, figsize = (13, 4))\n",
        "\n",
        "for label, info in score.items():\n",
        "    i, train_score, test_score = zip(*info)\n",
        "    ax[0].plot(i, train_score, label = label)\n",
        "    ax[1].plot(i, test_score, label = label)\n",
        "    \n",
        "ax[0].set_xlabel(\"n_estimators\", fontsize = 12)\n",
        "ax[0].set_ylabel(\"train score\", fontsize = 12)\n",
        "ax[0].set_title('Train')\n",
        "ax[0].legend(loc = 'lower right')\n",
        "\n",
        "ax[1].set_xlabel(\"n_estimators\", fontsize = 12)\n",
        "ax[1].set_ylabel(\"test score\", fontsize = 12)\n",
        "ax[1].set_title('Test')\n",
        "ax[1].legend(loc = 'lower right')"
      ],
      "metadata": {
        "colab": {
          "base_uri": "https://localhost:8080/",
          "height": 350
        },
        "id": "sYO9u6YYxeDJ",
        "outputId": "8965fe23-3d55-403b-8b10-a843828d5bbf"
      },
      "execution_count": null,
      "outputs": [
        {
          "output_type": "stream",
          "name": "stderr",
          "text": [
            "100%|██████████| 50/50 [00:02<00:00, 22.37it/s]\n",
            "100%|██████████| 50/50 [00:03<00:00, 14.77it/s]\n"
          ]
        },
        {
          "output_type": "execute_result",
          "data": {
            "text/plain": [
              "<matplotlib.legend.Legend at 0x7f4ce14fe1d0>"
            ]
          },
          "metadata": {},
          "execution_count": 26
        },
        {
          "output_type": "display_data",
          "data": {
            "text/plain": [
              "<Figure size 936x288 with 2 Axes>"
            ],
            "image/png": "[encoded data removed]"
          },
          "metadata": {}
        }
      ]
    },
    {
      "cell_type": "markdown",
      "source": [
        "#### Too high! CAVEAT!\n",
        "- Above result does NOT mean our model is doing well.\n",
        "- The score is high, largely because we have a lot more (~ 10x) positive (churn) samples than negative ones. "
      ],
      "metadata": {
        "id": "4P6DQONE8Oox"
      }
    },
    {
      "cell_type": "code",
      "source": [
        "tn, fp, fn, tp = confusion_matrix(y_test, clf.predict(x_test)).ravel()\n",
        "print('Model score (accuracy) is simply calculated as (tp+tn)/(tn+fp+fn+tp). So be careful!')"
      ],
      "metadata": {
        "colab": {
          "base_uri": "https://localhost:8080/"
        },
        "id": "Li5fqG9K5vzG",
        "outputId": "2b7d875f-6eec-4e3e-b3fe-e75a12b14a28"
      },
      "execution_count": null,
      "outputs": [
        {
          "output_type": "stream",
          "name": "stdout",
          "text": [
            "Model score (accuracy) is simply calculated as (tp+tn)/(tn+fp+fn+tp). So be careful!\n"
          ]
        }
      ]
    },
    {
      "cell_type": "code",
      "source": [
        "precision = tp/(tp+fp) # out of all pos predictions\n",
        "sensitivity = tp/(tp+fn) # out of all pos samples\n",
        "\n",
        "print('Our precision and sensitivity is {:.3f} and {:.3f}, both too high'.format(precision, sensitivity))"
      ],
      "metadata": {
        "colab": {
          "base_uri": "https://localhost:8080/"
        },
        "id": "ALx-Wjn-7a3Q",
        "outputId": "18265225-2d86-4709-cb9d-1317305c6f02"
      },
      "execution_count": null,
      "outputs": [
        {
          "output_type": "stream",
          "name": "stdout",
          "text": [
            "Our precision and sensitivity is 0.996 and 0.995, both too high\n"
          ]
        }
      ]
    },
    {
      "cell_type": "markdown",
      "source": [
        "#### Simple Neural Network\n",
        "- Weighted Cross Entropy is a great way to penalize samples with certain label of interest - negative labels, in our case.\n",
        "- The loss would then be, label * -log(sigmoid(logits)) * pos_weight + (1 - label) * -log(1 - sigmoid(logits)), where pos_weight is less than 1.\n",
        "\n"
      ],
      "metadata": {
        "id": "uip7SGcb-TSG"
      }
    },
    {
      "cell_type": "code",
      "source": [
        "model = Sequential()\n",
        "n_cols = x_train.shape[1]\n",
        "BATCH_SIZE, EPOCHS = 1024, 50\n",
        "\n",
        "model.add(Dense(units = 16, input_shape = (n_cols,), activation = 'relu'))\n",
        "model.add(Dense(units = 16, activation = 'relu'))\n",
        "model.add(Dense(units = 16, activation = 'relu'))\n",
        "model.add(Dropout(0.5))\n",
        "model.add(Dense(units = 1))\n",
        "\n",
        "adam = keras.optimizers.Adam(learning_rate = 0.001)\n",
        "model.compile(loss = keras.losses.BinaryCrossentropy(), optimizer = adam, metrics = ['accuracy'])\n",
        "\n",
        "# class weight define\n",
        "neg, pos = np.bincount(y)\n",
        "total = neg + pos\n",
        "weight_0 = (1 / neg) * (total / 2.0)\n",
        "weight_1 = (1 / pos) * (total / 2.0)\n",
        "class_weight = {0: weight_0, 1: weight_1}\n",
        "\n",
        "model.fit(x_train, y_train, batch_size = BATCH_SIZE, epochs = EPOCHS, class_weight = class_weight)\n",
        "loss, acc = model.evaluate(x_test, y_test)"
      ],
      "metadata": {
        "colab": {
          "base_uri": "https://localhost:8080/"
        },
        "id": "S445A-Xj9nUk",
        "outputId": "9887e63e-2c5f-4527-cd58-3511d9e6f4b8"
      },
      "execution_count": null,
      "outputs": [
        {
          "output_type": "stream",
          "name": "stdout",
          "text": [
            "Epoch 1/50\n",
            "12/12 [==============================] - 1s 3ms/step - loss: 1.6215 - accuracy: 0.2409\n",
            "Epoch 2/50\n",
            "12/12 [==============================] - 0s 3ms/step - loss: 1.1687 - accuracy: 0.3783\n",
            "Epoch 3/50\n",
            "12/12 [==============================] - 0s 2ms/step - loss: 0.9697 - accuracy: 0.4394\n",
            "Epoch 4/50\n",
            "12/12 [==============================] - 0s 2ms/step - loss: 0.8533 - accuracy: 0.4984\n",
            "Epoch 5/50\n",
            "12/12 [==============================] - 0s 2ms/step - loss: 0.7769 - accuracy: 0.5148\n",
            "Epoch 6/50\n",
            "12/12 [==============================] - 0s 2ms/step - loss: 0.7156 - accuracy: 0.5348\n",
            "Epoch 7/50\n",
            "12/12 [==============================] - 0s 2ms/step - loss: 0.6800 - accuracy: 0.5608\n",
            "Epoch 8/50\n",
            "12/12 [==============================] - 0s 2ms/step - loss: 0.6607 - accuracy: 0.5925\n",
            "Epoch 9/50\n",
            "12/12 [==============================] - 0s 3ms/step - loss: 0.6080 - accuracy: 0.6140\n",
            "Epoch 10/50\n",
            "12/12 [==============================] - 0s 2ms/step - loss: 0.5872 - accuracy: 0.6273\n",
            "Epoch 11/50\n",
            "12/12 [==============================] - 0s 2ms/step - loss: 0.5868 - accuracy: 0.6541\n",
            "Epoch 12/50\n",
            "12/12 [==============================] - 0s 3ms/step - loss: 0.5293 - accuracy: 0.6631\n",
            "Epoch 13/50\n",
            "12/12 [==============================] - 0s 2ms/step - loss: 0.4967 - accuracy: 0.6672\n",
            "Epoch 14/50\n",
            "12/12 [==============================] - 0s 2ms/step - loss: 0.4594 - accuracy: 0.6650\n",
            "Epoch 15/50\n",
            "12/12 [==============================] - 0s 3ms/step - loss: 0.4269 - accuracy: 0.6992\n",
            "Epoch 16/50\n",
            "12/12 [==============================] - 0s 2ms/step - loss: 0.3840 - accuracy: 0.7343\n",
            "Epoch 17/50\n",
            "12/12 [==============================] - 0s 2ms/step - loss: 0.3561 - accuracy: 0.7836\n",
            "Epoch 18/50\n",
            "12/12 [==============================] - 0s 2ms/step - loss: 0.3546 - accuracy: 0.8096\n",
            "Epoch 19/50\n",
            "12/12 [==============================] - 0s 2ms/step - loss: 0.3198 - accuracy: 0.8031\n",
            "Epoch 20/50\n",
            "12/12 [==============================] - 0s 2ms/step - loss: 0.3097 - accuracy: 0.8218\n",
            "Epoch 21/50\n",
            "12/12 [==============================] - 0s 2ms/step - loss: 0.2783 - accuracy: 0.8348\n",
            "Epoch 22/50\n",
            "12/12 [==============================] - 0s 2ms/step - loss: 0.2552 - accuracy: 0.8504\n",
            "Epoch 23/50\n",
            "12/12 [==============================] - 0s 2ms/step - loss: 0.2379 - accuracy: 0.8580\n",
            "Epoch 24/50\n",
            "12/12 [==============================] - 0s 2ms/step - loss: 0.2406 - accuracy: 0.8771\n",
            "Epoch 25/50\n",
            "12/12 [==============================] - 0s 3ms/step - loss: 0.2272 - accuracy: 0.8694\n",
            "Epoch 26/50\n",
            "12/12 [==============================] - 0s 2ms/step - loss: 0.2072 - accuracy: 0.8841\n",
            "Epoch 27/50\n",
            "12/12 [==============================] - 0s 2ms/step - loss: 0.2230 - accuracy: 0.9015\n",
            "Epoch 28/50\n",
            "12/12 [==============================] - 0s 2ms/step - loss: 0.1894 - accuracy: 0.8939\n",
            "Epoch 29/50\n",
            "12/12 [==============================] - 0s 2ms/step - loss: 0.1728 - accuracy: 0.9040\n",
            "Epoch 30/50\n",
            "12/12 [==============================] - 0s 2ms/step - loss: 0.1652 - accuracy: 0.9146\n",
            "Epoch 31/50\n",
            "12/12 [==============================] - 0s 2ms/step - loss: 0.1578 - accuracy: 0.9109\n",
            "Epoch 32/50\n",
            "12/12 [==============================] - 0s 2ms/step - loss: 0.1644 - accuracy: 0.9317\n",
            "Epoch 33/50\n",
            "12/12 [==============================] - 0s 2ms/step - loss: 0.1593 - accuracy: 0.9076\n",
            "Epoch 34/50\n",
            "12/12 [==============================] - 0s 2ms/step - loss: 0.1498 - accuracy: 0.9235\n",
            "Epoch 35/50\n",
            "12/12 [==============================] - 0s 2ms/step - loss: 0.1349 - accuracy: 0.9279\n",
            "Epoch 36/50\n",
            "12/12 [==============================] - 0s 2ms/step - loss: 0.1288 - accuracy: 0.9291\n",
            "Epoch 37/50\n",
            "12/12 [==============================] - 0s 2ms/step - loss: 0.1491 - accuracy: 0.9303\n",
            "Epoch 38/50\n",
            "12/12 [==============================] - 0s 2ms/step - loss: 0.1255 - accuracy: 0.9378\n",
            "Epoch 39/50\n",
            "12/12 [==============================] - 0s 2ms/step - loss: 0.1295 - accuracy: 0.9336\n",
            "Epoch 40/50\n",
            "12/12 [==============================] - 0s 2ms/step - loss: 0.1231 - accuracy: 0.9389\n",
            "Epoch 41/50\n",
            "12/12 [==============================] - 0s 2ms/step - loss: 0.1154 - accuracy: 0.9341\n",
            "Epoch 42/50\n",
            "12/12 [==============================] - 0s 2ms/step - loss: 0.1144 - accuracy: 0.9414\n",
            "Epoch 43/50\n",
            "12/12 [==============================] - 0s 2ms/step - loss: 0.1131 - accuracy: 0.9423\n",
            "Epoch 44/50\n",
            "12/12 [==============================] - 0s 2ms/step - loss: 0.1075 - accuracy: 0.9523\n",
            "Epoch 45/50\n",
            "12/12 [==============================] - 0s 2ms/step - loss: 0.1069 - accuracy: 0.9480\n",
            "Epoch 46/50\n",
            "12/12 [==============================] - 0s 2ms/step - loss: 0.1042 - accuracy: 0.9408\n",
            "Epoch 47/50\n",
            "12/12 [==============================] - 0s 2ms/step - loss: 0.0984 - accuracy: 0.9513\n",
            "Epoch 48/50\n",
            "12/12 [==============================] - 0s 2ms/step - loss: 0.1141 - accuracy: 0.9375\n",
            "Epoch 49/50\n",
            "12/12 [==============================] - 0s 3ms/step - loss: 0.1082 - accuracy: 0.9476\n",
            "Epoch 50/50\n",
            "12/12 [==============================] - 0s 2ms/step - loss: 0.1080 - accuracy: 0.9430\n",
            "90/90 [==============================] - 0s 1ms/step - loss: 0.0823 - accuracy: 0.9680\n"
          ]
        }
      ]
    },
    {
      "cell_type": "code",
      "source": [
        "print('Model accuracy = {:.3f}'.format(acc))"
      ],
      "metadata": {
        "colab": {
          "base_uri": "https://localhost:8080/"
        },
        "id": "8TCeuaNgLL8U",
        "outputId": "aa2e98a2-f6b3-4bbe-ab6e-2623d0ebaa97"
      },
      "execution_count": null,
      "outputs": [
        {
          "output_type": "stream",
          "name": "stdout",
          "text": [
            "Model accuracy = 0.968\n"
          ]
        }
      ]
    },
    {
      "cell_type": "markdown",
      "source": [
        "#### Does our model predict negative ones better than before? -> Yes, slightly! Because:"
      ],
      "metadata": {
        "id": "7Th9Aq-2GIYk"
      }
    },
    {
      "cell_type": "code",
      "source": [
        "tn, fp, fn, tp = confusion_matrix(y_test, (model.predict(x_test) > 0.5).astype(int)).ravel()\n",
        "precision = tp/(tp+fp) # out of all pos predictions\n",
        "sensitivity = tp/(tp+fn) # out of all pos samples\n",
        "\n",
        "print('Before, we made 4.49 % error with negative samples, but now with weighted cross entropy, we reduced it down to 0.41 %')"
      ],
      "metadata": {
        "colab": {
          "base_uri": "https://localhost:8080/"
        },
        "id": "t2EW0VX5BB24",
        "outputId": "9495d298-a238-46b6-8a89-775aff24b450"
      },
      "execution_count": null,
      "outputs": [
        {
          "output_type": "stream",
          "name": "stdout",
          "text": [
            "Before, we made 4.49 % error with negative samples, but now with weighted cross entropy, we reduced it down to 0.41 %\n"
          ]
        }
      ]
    }
  ]
}